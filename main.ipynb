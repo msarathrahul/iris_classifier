{
 "cells": [
  {
   "cell_type": "code",
   "execution_count": 37,
   "id": "fe3feef9",
   "metadata": {},
   "outputs": [
    {
     "name": "stdout",
     "output_type": "stream",
     "text": [
      "Overwriting main.py\n"
     ]
    }
   ],
   "source": [
    "%%writefile main.py\n",
    "import sys\n",
    "import pandas as pd\n",
    "import pickle\n",
    "import warnings\n",
    "warnings.filterwarnings('ignore')\n",
    "\n",
    "def main():\n",
    "    \n",
    "    while True:\n",
    "        if len(sys.argv) == 9:\n",
    "            #print('Thanks')\n",
    "            break\n",
    "        else:\n",
    "            print('Not enough arguments.\\nTry again')\n",
    "            sys.exit()\n",
    "    \n",
    "    val_dict = {} \n",
    "    \n",
    "    val_dict['sepal_length'] = sys.argv.index('-sl') + 1\n",
    "    val_dict['sepal_width'] = sys.argv.index('-sw') + 1\n",
    "    val_dict['petal_length'] = sys.argv.index('-pl') + 1\n",
    "    val_dict['petal_width'] = sys.argv.index('-pw') + 1\n",
    "    \n",
    "    classes = ['setosa', 'versicolor', 'virginica']\n",
    "    \n",
    "    df = pd.DataFrame(val_dict.values(),index=val_dict.keys()).T\n",
    "    df = df[['sepal_length','sepal_width','petal_length','petal_width']]\n",
    "    \n",
    "    with open('_pre_processors/standard_scalar.pkl','rb') as file:\n",
    "        sc = pickle.load(file)\n",
    "    \n",
    "    arr = sc.transform(df)\n",
    "    \n",
    "    d = pd.DataFrame(arr,columns=['sepal_length','sepal_width','petal_length','petal_width'])\n",
    "    \n",
    "    with open('_pre_processors/pipeline.pkl','rb') as file:\n",
    "        pipe = pickle.load(file)\n",
    "    \n",
    "    print(f\" The given instance belong to : {classes[pipe.predict(d)]}\")\n",
    "    \n",
    "    \n",
    "if __name__ == \"__main__\":\n",
    "    main()"
   ]
  }
 ],
 "metadata": {
  "kernelspec": {
   "display_name": "Python 3 (ipykernel)",
   "language": "python",
   "name": "python3"
  },
  "language_info": {
   "codemirror_mode": {
    "name": "ipython",
    "version": 3
   },
   "file_extension": ".py",
   "mimetype": "text/x-python",
   "name": "python",
   "nbconvert_exporter": "python",
   "pygments_lexer": "ipython3",
   "version": "3.10.9"
  }
 },
 "nbformat": 4,
 "nbformat_minor": 5
}
